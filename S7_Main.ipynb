{
  "nbformat": 4,
  "nbformat_minor": 0,
  "metadata": {
    "colab": {
      "name": "S7_Main.ipynb",
      "provenance": [],
      "include_colab_link": true
    },
    "kernelspec": {
      "name": "python3",
      "display_name": "Python 3"
    }
  },
  "cells": [
    {
      "cell_type": "markdown",
      "metadata": {
        "id": "view-in-github",
        "colab_type": "text"
      },
      "source": [
        "<a href=\"https://colab.research.google.com/github/rajeswarimuppidi/EVA-4-Assignment-S7/blob/master/S7_Main.ipynb\" target=\"_parent\"><img src=\"https://colab.research.google.com/assets/colab-badge.svg\" alt=\"Open In Colab\"/></a>"
      ]
    },
    {
      "cell_type": "code",
      "metadata": {
        "id": "5__9lFNf35y-",
        "colab_type": "code",
        "outputId": "01d9e43b-ece0-4ae7-9e67-a8d245172d8f",
        "colab": {
          "base_uri": "https://localhost:8080/",
          "height": 185
        }
      },
      "source": [
        "!pip install import-ipynb\n",
        "import import_ipynb\n",
        "#from __future__ import print_function\n",
        "import torch\n",
        "import torch.nn as nn\n",
        "import torch.nn.functional as F\n",
        "import torch.optim as optim\n",
        "from torchvision import datasets, transforms\n",
        "!pip install torchsummary\n",
        "from torchsummary import summary\n",
        "from tqdm import tqdm\n",
        "%matplotlib inline\n",
        "import matplotlib.pyplot as plt\n",
        "from torchvision.transforms import ToPILImage\n",
        "import os"
      ],
      "execution_count": 1,
      "outputs": [
        {
          "output_type": "stream",
          "text": [
            "Collecting import-ipynb\n",
            "  Downloading https://files.pythonhosted.org/packages/63/35/495e0021bfdcc924c7cdec4e9fbb87c88dd03b9b9b22419444dc370c8a45/import-ipynb-0.1.3.tar.gz\n",
            "Building wheels for collected packages: import-ipynb\n",
            "  Building wheel for import-ipynb (setup.py) ... \u001b[?25l\u001b[?25hdone\n",
            "  Created wheel for import-ipynb: filename=import_ipynb-0.1.3-cp36-none-any.whl size=2976 sha256=ad349ffa5613c5eba4bea7b89e37ac6542924abb2cfe4a81238a3d23d5890c40\n",
            "  Stored in directory: /root/.cache/pip/wheels/b4/7b/e9/a3a6e496115dffdb4e3085d0ae39ffe8a814eacc44bbf494b5\n",
            "Successfully built import-ipynb\n",
            "Installing collected packages: import-ipynb\n",
            "Successfully installed import-ipynb-0.1.3\n",
            "Requirement already satisfied: torchsummary in /usr/local/lib/python3.6/dist-packages (1.5.1)\n"
          ],
          "name": "stdout"
        }
      ]
    },
    {
      "cell_type": "code",
      "metadata": {
        "id": "6IyOurr84B4L",
        "colab_type": "code",
        "colab": {}
      },
      "source": [
        "use_cuda = torch.cuda.is_available()\n",
        "device = torch.device(\"cuda\" if use_cuda else \"cpu\")"
      ],
      "execution_count": 0,
      "outputs": []
    },
    {
      "cell_type": "code",
      "metadata": {
        "id": "EYrC8F944Elh",
        "colab_type": "code",
        "outputId": "90139351-7783-4e9e-d51a-a2bbb9632c93",
        "colab": {
          "base_uri": "https://localhost:8080/",
          "height": 121
        }
      },
      "source": [
        "from google.colab import drive\n",
        "drive.mount('/content/gdrive')"
      ],
      "execution_count": 3,
      "outputs": [
        {
          "output_type": "stream",
          "text": [
            "Go to this URL in a browser: https://accounts.google.com/o/oauth2/auth?client_id=947318989803-6bn6qk8qdgf4n4g3pfee6491hc0brc4i.apps.googleusercontent.com&redirect_uri=urn%3aietf%3awg%3aoauth%3a2.0%3aoob&response_type=code&scope=email%20https%3a%2f%2fwww.googleapis.com%2fauth%2fdocs.test%20https%3a%2f%2fwww.googleapis.com%2fauth%2fdrive%20https%3a%2f%2fwww.googleapis.com%2fauth%2fdrive.photos.readonly%20https%3a%2f%2fwww.googleapis.com%2fauth%2fpeopleapi.readonly\n",
            "\n",
            "Enter your authorization code:\n",
            "··········\n",
            "Mounted at /content/gdrive\n"
          ],
          "name": "stdout"
        }
      ]
    },
    {
      "cell_type": "code",
      "metadata": {
        "id": "xZadU_H44HGJ",
        "colab_type": "code",
        "outputId": "3c36ee1d-292b-42e1-9418-362b3786303d",
        "colab": {
          "base_uri": "https://localhost:8080/",
          "height": 34
        }
      },
      "source": [
        "%cd \"/content/gdrive/My Drive/Colab Notebooks\""
      ],
      "execution_count": 4,
      "outputs": [
        {
          "output_type": "stream",
          "text": [
            "/content/gdrive/My Drive/Colab Notebooks\n"
          ],
          "name": "stdout"
        }
      ]
    },
    {
      "cell_type": "code",
      "metadata": {
        "id": "IX5VLggC4LFP",
        "colab_type": "code",
        "outputId": "793f95b8-7f38-4313-91f9-451dfcce58d6",
        "colab": {
          "base_uri": "https://localhost:8080/",
          "height": 235
        }
      },
      "source": [
        "ls"
      ],
      "execution_count": 5,
      "outputs": [
        {
          "output_type": "stream",
          "text": [
            "'Base Code.ipynb'                         'Copy of EVA4 - Session 6_All.ipynb'\n",
            "'Copy of Copy of Python101.ipynb'         'Copy of EVA4 - Session 6_L1.ipynb'\n",
            "'Copy of EVA4S5F1.ipynb'                  'Copy of EVA4 - Session 6_L1L2.ipynb'\n",
            "'Copy of EVA4 - Session 2 (1).ipynb'      'Copy of Python101 (1).ipynb'\n",
            "'Copy of EVA4 - Session 2 (2).ipynb'      'Copy of Python101.ipynb'\n",
            "'Copy of EVA4 - Session 2.ipynb'          'Copy of PyTorch101.ipynb'\n",
            "'Copy of EVA4 - Session 5 F1.ipynb'       'Copy of S7_Functions.ipynb'\n",
            "'Copy of EVA4 - Session 5_F1.ipynb'       'Copy of S7.ipynb'\n",
            "'Copy of EVA4 - Session 5_F2.ipynb'       'Copy of S7_Main.ipynb'\n",
            "'Copy of EVA4 - Session 5_F3.ipynb'        \u001b[0m\u001b[01;34mdata\u001b[0m/\n",
            "'Copy of EVA4 - Session 5_F4.ipynb'        S7_Functions.ipynb\n",
            "'Copy of EVA4 - Session 5_F5.ipynb'        Untitled\n",
            "'Copy of EVA4 - Session 6_All (1).ipynb'\n"
          ],
          "name": "stdout"
        }
      ]
    },
    {
      "cell_type": "code",
      "metadata": {
        "id": "t0bucD_04LMg",
        "colab_type": "code",
        "outputId": "ae71a215-4b96-4d33-b1e8-3280e2da6817",
        "colab": {
          "base_uri": "https://localhost:8080/",
          "height": 50
        }
      },
      "source": [
        "from S7_Functions import transformations,train_test_dataloaders,Net,invoke_process_without_L1_and_L2,invoke_process_with_L1"
      ],
      "execution_count": 6,
      "outputs": [
        {
          "output_type": "stream",
          "text": [
            "importing Jupyter notebook from S7_Functions.ipynb\n",
            "Requirement already satisfied: torchsummary in /usr/local/lib/python3.6/dist-packages (1.5.1)\n"
          ],
          "name": "stdout"
        }
      ]
    },
    {
      "cell_type": "code",
      "metadata": {
        "id": "YknZQFUj4N5P",
        "colab_type": "code",
        "colab": {}
      },
      "source": [
        "train_transforms , test_transforms=transformations()"
      ],
      "execution_count": 0,
      "outputs": []
    },
    {
      "cell_type": "code",
      "metadata": {
        "id": "P3nmuFsa4P6Z",
        "colab_type": "code",
        "outputId": "8fcecd2b-247d-4ce2-d272-52e9c36b6b2a",
        "colab": {
          "base_uri": "https://localhost:8080/",
          "height": 67
        }
      },
      "source": [
        "trainloader, testloader = train_test_dataloaders(1, 128, 10, train_transforms , test_transforms)"
      ],
      "execution_count": 8,
      "outputs": [
        {
          "output_type": "stream",
          "text": [
            "CUDA Available? False\n",
            "Files already downloaded and verified\n",
            "Files already downloaded and verified\n"
          ],
          "name": "stdout"
        }
      ]
    },
    {
      "cell_type": "code",
      "metadata": {
        "id": "Zj03iLIT4RnM",
        "colab_type": "code",
        "colab": {}
      },
      "source": [
        "model =  Net(1.0).to(device)\n",
        "optimizer = optim.SGD(model.parameters(), lr=0.01, momentum=0.9)\n",
        "epoch=15\n",
        "input_size=(3,32,32)"
      ],
      "execution_count": 0,
      "outputs": []
    },
    {
      "cell_type": "code",
      "metadata": {
        "id": "Q7Q4lPao4TzD",
        "colab_type": "code",
        "outputId": "3c22fd59-80e9-49d9-975e-256023cfc4a2",
        "colab": {
          "base_uri": "https://localhost:8080/",
          "height": 1000
        }
      },
      "source": [
        "invoke_process_without_L1_and_L2(model,device,input_size,trainloader,testloader,epoch,optimizer)"
      ],
      "execution_count": 0,
      "outputs": [
        {
          "output_type": "stream",
          "text": [
            "\r  0%|          | 0/391 [00:00<?, ?it/s]"
          ],
          "name": "stderr"
        },
        {
          "output_type": "stream",
          "text": [
            "----------------------------------------------------------------\n",
            "        Layer (type)               Output Shape         Param #\n",
            "================================================================\n",
            "            Conv2d-1           [-1, 32, 32, 32]             864\n",
            "              ReLU-2           [-1, 32, 32, 32]               0\n",
            "       BatchNorm2d-3           [-1, 32, 32, 32]              64\n",
            "            Conv2d-4           [-1, 64, 32, 32]          18,432\n",
            "              ReLU-5           [-1, 64, 32, 32]               0\n",
            "       BatchNorm2d-6           [-1, 64, 32, 32]             128\n",
            "         MaxPool2d-7           [-1, 64, 16, 16]               0\n",
            "            Conv2d-8          [-1, 128, 16, 16]          73,728\n",
            "              ReLU-9          [-1, 128, 16, 16]               0\n",
            "      BatchNorm2d-10          [-1, 128, 16, 16]             256\n",
            "           Conv2d-11          [-1, 256, 16, 16]           2,304\n",
            "             ReLU-12          [-1, 256, 16, 16]               0\n",
            "      BatchNorm2d-13          [-1, 256, 16, 16]             512\n",
            "           Conv2d-14          [-1, 256, 18, 18]          65,536\n",
            "             ReLU-15          [-1, 256, 18, 18]               0\n",
            "      BatchNorm2d-16          [-1, 256, 18, 18]             512\n",
            "        MaxPool2d-17            [-1, 256, 9, 9]               0\n",
            "           Conv2d-18            [-1, 256, 9, 9]         589,824\n",
            "             ReLU-19            [-1, 256, 9, 9]               0\n",
            "      BatchNorm2d-20            [-1, 256, 9, 9]             512\n",
            "        MaxPool2d-21            [-1, 256, 4, 4]               0\n",
            "        AvgPool2d-22            [-1, 256, 1, 1]               0\n",
            "           Conv2d-23             [-1, 10, 1, 1]           2,560\n",
            "================================================================\n",
            "Total params: 755,232\n",
            "Trainable params: 755,232\n",
            "Non-trainable params: 0\n",
            "----------------------------------------------------------------\n",
            "Input size (MB): 0.01\n",
            "Forward/backward pass size (MB): 7.19\n",
            "Params size (MB): 2.88\n",
            "Estimated Total Size (MB): 10.08\n",
            "----------------------------------------------------------------\n",
            "EPOCH: 0\n"
          ],
          "name": "stdout"
        },
        {
          "output_type": "stream",
          "text": [
            "Loss=0.7766786217689514 Batch_id=390 Accuracy=52.99: 100%|██████████| 391/391 [19:21<00:00,  2.63s/it]\n",
            "  0%|          | 0/391 [00:00<?, ?it/s]"
          ],
          "name": "stderr"
        },
        {
          "output_type": "stream",
          "text": [
            "\n",
            "Test set: Average loss: 1.1022, Accuracy: 6083/10000 (60.83%)\n",
            "\n",
            "EPOCH: 1\n"
          ],
          "name": "stdout"
        },
        {
          "output_type": "stream",
          "text": [
            "Loss=0.8733842968940735 Batch_id=390 Accuracy=68.32: 100%|██████████| 391/391 [19:15<00:00,  2.62s/it]\n",
            "  0%|          | 0/391 [00:00<?, ?it/s]"
          ],
          "name": "stderr"
        },
        {
          "output_type": "stream",
          "text": [
            "\n",
            "Test set: Average loss: 0.8582, Accuracy: 6958/10000 (69.58%)\n",
            "\n",
            "EPOCH: 2\n"
          ],
          "name": "stdout"
        },
        {
          "output_type": "stream",
          "text": [
            "Loss=0.5120985507965088 Batch_id=390 Accuracy=75.60: 100%|██████████| 391/391 [19:52<00:00,  2.75s/it]\n",
            "  0%|          | 0/391 [00:00<?, ?it/s]"
          ],
          "name": "stderr"
        },
        {
          "output_type": "stream",
          "text": [
            "\n",
            "Test set: Average loss: 0.7432, Accuracy: 7420/10000 (74.20%)\n",
            "\n",
            "EPOCH: 3\n"
          ],
          "name": "stdout"
        },
        {
          "output_type": "stream",
          "text": [
            "Loss=0.650375247001648 Batch_id=390 Accuracy=80.15: 100%|██████████| 391/391 [20:19<00:00,  2.80s/it]\n",
            "  0%|          | 0/391 [00:00<?, ?it/s]"
          ],
          "name": "stderr"
        },
        {
          "output_type": "stream",
          "text": [
            "\n",
            "Test set: Average loss: 0.7642, Accuracy: 7406/10000 (74.06%)\n",
            "\n",
            "EPOCH: 4\n"
          ],
          "name": "stdout"
        },
        {
          "output_type": "stream",
          "text": [
            "Loss=0.3574853539466858 Batch_id=390 Accuracy=83.98: 100%|██████████| 391/391 [20:15<00:00,  2.77s/it]\n",
            "  0%|          | 0/391 [00:00<?, ?it/s]"
          ],
          "name": "stderr"
        },
        {
          "output_type": "stream",
          "text": [
            "\n",
            "Test set: Average loss: 0.7395, Accuracy: 7482/10000 (74.82%)\n",
            "\n",
            "EPOCH: 5\n"
          ],
          "name": "stdout"
        },
        {
          "output_type": "stream",
          "text": [
            "Loss=0.4709523320198059 Batch_id=390 Accuracy=87.13: 100%|██████████| 391/391 [21:16<00:00,  2.82s/it]\n",
            "  0%|          | 0/391 [00:00<?, ?it/s]"
          ],
          "name": "stderr"
        },
        {
          "output_type": "stream",
          "text": [
            "\n",
            "Test set: Average loss: 0.6659, Accuracy: 7760/10000 (77.60%)\n",
            "\n",
            "EPOCH: 6\n"
          ],
          "name": "stdout"
        },
        {
          "output_type": "stream",
          "text": [
            "Loss=0.15732622146606445 Batch_id=390 Accuracy=90.04: 100%|██████████| 391/391 [20:22<00:00,  2.83s/it]\n",
            "  0%|          | 0/391 [00:00<?, ?it/s]"
          ],
          "name": "stderr"
        },
        {
          "output_type": "stream",
          "text": [
            "\n",
            "Test set: Average loss: 0.8229, Accuracy: 7437/10000 (74.37%)\n",
            "\n",
            "EPOCH: 7\n"
          ],
          "name": "stdout"
        },
        {
          "output_type": "stream",
          "text": [
            "Loss=0.22731547057628632 Batch_id=390 Accuracy=92.86: 100%|██████████| 391/391 [20:23<00:00,  2.79s/it]\n",
            "  0%|          | 0/391 [00:00<?, ?it/s]"
          ],
          "name": "stderr"
        },
        {
          "output_type": "stream",
          "text": [
            "\n",
            "Test set: Average loss: 0.7094, Accuracy: 7746/10000 (77.46%)\n",
            "\n",
            "EPOCH: 8\n"
          ],
          "name": "stdout"
        },
        {
          "output_type": "stream",
          "text": [
            "Loss=0.23268766701221466 Batch_id=390 Accuracy=95.38: 100%|██████████| 391/391 [20:49<00:00,  2.78s/it]\n",
            "  0%|          | 0/391 [00:00<?, ?it/s]"
          ],
          "name": "stderr"
        },
        {
          "output_type": "stream",
          "text": [
            "\n",
            "Test set: Average loss: 0.7444, Accuracy: 7805/10000 (78.05%)\n",
            "\n",
            "EPOCH: 9\n"
          ],
          "name": "stdout"
        },
        {
          "output_type": "stream",
          "text": [
            "Loss=0.12350436300039291 Batch_id=390 Accuracy=97.25: 100%|██████████| 391/391 [20:38<00:00,  2.88s/it]\n",
            "  0%|          | 0/391 [00:00<?, ?it/s]"
          ],
          "name": "stderr"
        },
        {
          "output_type": "stream",
          "text": [
            "\n",
            "Test set: Average loss: 0.8048, Accuracy: 7722/10000 (77.22%)\n",
            "\n",
            "EPOCH: 10\n"
          ],
          "name": "stdout"
        },
        {
          "output_type": "stream",
          "text": [
            "Loss=0.0644277036190033 Batch_id=390 Accuracy=98.58: 100%|██████████| 391/391 [20:37<00:00,  2.85s/it]\n",
            "  0%|          | 0/391 [00:00<?, ?it/s]"
          ],
          "name": "stderr"
        },
        {
          "output_type": "stream",
          "text": [
            "\n",
            "Test set: Average loss: 0.7437, Accuracy: 7960/10000 (79.60%)\n",
            "\n",
            "EPOCH: 11\n"
          ],
          "name": "stdout"
        },
        {
          "output_type": "stream",
          "text": [
            "Loss=0.03180317580699921 Batch_id=390 Accuracy=99.62: 100%|██████████| 391/391 [20:29<00:00,  2.76s/it]\n",
            "  0%|          | 0/391 [00:00<?, ?it/s]"
          ],
          "name": "stderr"
        },
        {
          "output_type": "stream",
          "text": [
            "\n",
            "Test set: Average loss: 0.7168, Accuracy: 8013/10000 (80.13%)\n",
            "\n",
            "EPOCH: 12\n"
          ],
          "name": "stdout"
        },
        {
          "output_type": "stream",
          "text": [
            "Loss=0.008047716692090034 Batch_id=390 Accuracy=99.95: 100%|██████████| 391/391 [20:39<00:00,  2.75s/it]\n",
            "  0%|          | 0/391 [00:00<?, ?it/s]"
          ],
          "name": "stderr"
        },
        {
          "output_type": "stream",
          "text": [
            "\n",
            "Test set: Average loss: 0.7053, Accuracy: 8124/10000 (81.24%)\n",
            "\n",
            "EPOCH: 13\n"
          ],
          "name": "stdout"
        },
        {
          "output_type": "stream",
          "text": [
            "Loss=0.003272825153544545 Batch_id=390 Accuracy=99.99: 100%|██████████| 391/391 [20:09<00:00,  2.74s/it]\n",
            "  0%|          | 0/391 [00:00<?, ?it/s]"
          ],
          "name": "stderr"
        },
        {
          "output_type": "stream",
          "text": [
            "\n",
            "Test set: Average loss: 0.7187, Accuracy: 8179/10000 (81.79%)\n",
            "\n",
            "EPOCH: 14\n"
          ],
          "name": "stdout"
        },
        {
          "output_type": "stream",
          "text": [
            "Loss=0.0033952456433326006 Batch_id=140 Accuracy=100.00:  36%|███▌      | 141/391 [07:19<12:59,  3.12s/it]"
          ],
          "name": "stderr"
        }
      ]
    },
    {
      "cell_type": "code",
      "metadata": {
        "id": "CK0-4gL0dzPn",
        "colab_type": "code",
        "colab": {}
      },
      "source": [
        ""
      ],
      "execution_count": 0,
      "outputs": []
    }
  ]
}